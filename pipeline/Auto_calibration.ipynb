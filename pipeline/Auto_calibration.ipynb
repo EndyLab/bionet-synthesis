{
 "cells": [
  {
   "cell_type": "code",
   "execution_count": 1,
   "metadata": {},
   "outputs": [],
   "source": [
    "from opentrons import robot, containers, instruments\n",
    "from opentrons.containers import placeable"
   ]
  },
  {
   "cell_type": "code",
   "execution_count": 2,
   "metadata": {},
   "outputs": [],
   "source": [
    "def initialize_pipettes():\n",
    "    # Declare all of the pipettes\n",
    "    p10 = instruments.Pipette(\n",
    "        axis='a',\n",
    "        max_volume=10,\n",
    "        min_volume=0.5,\n",
    "        tip_racks=p10_tipracks,\n",
    "        trash_container=trash,\n",
    "        channels=8,\n",
    "        name='p10-8',\n",
    "        aspirate_speed=400,\n",
    "        dispense_speed=800\n",
    "    )\n",
    "\n",
    "    p10s = instruments.Pipette(\n",
    "        axis='a',\n",
    "        max_volume=10,\n",
    "        min_volume=0.5,\n",
    "        tip_racks=p10s_tipracks,\n",
    "        trash_container=trash,\n",
    "        channels=1,\n",
    "        name='p10-8s',\n",
    "        aspirate_speed=400,\n",
    "        dispense_speed=800\n",
    "    )\n",
    "\n",
    "    p200 = instruments.Pipette(\n",
    "        axis='b',\n",
    "        max_volume=200,\n",
    "        min_volume=20,\n",
    "        tip_racks=p200_tipracks,\n",
    "        trash_container=trash,\n",
    "        channels=1,\n",
    "        name='p200-1',\n",
    "        aspirate_speed=400,\n",
    "        dispense_speed=800\n",
    "    )\n",
    "    return p10,p10s,p200\n",
    "\n",
    "master = containers.load('PCR-strip-tall', 'C3')\n",
    "dest_plate = containers.load('96-PCR-tall', 'C2')\n",
    "\n",
    "# Declare components on the deck\n",
    "p200_tipracks = [\n",
    "    containers.load('tiprack-200ul', 'A3'),\n",
    "]\n",
    "p10_tipracks = [\n",
    "    containers.load('tiprack-10ul', 'E1'),\n",
    "]\n",
    "p10s_tipracks = [\n",
    "    containers.load('tiprack-10ul', 'E2'),\n",
    "    containers.load('tiprack-10ul', 'E3')\n",
    "]\n",
    "\n",
    "trash = containers.load('point', 'D1', 'holywastedplasticbatman')\n",
    "p10,p10s,p200 = initialize_pipettes()"
   ]
  },
  {
   "cell_type": "code",
   "execution_count": 7,
   "metadata": {},
   "outputs": [
    {
     "name": "stdout",
     "output_type": "stream",
     "text": [
      "A 3 tiprack-200ul\n",
      "<opentrons.instruments.pipette.Pipette object at 0x1101cd908>\n",
      "C 2 96-PCR-tall\n",
      "<opentrons.instruments.pipette.Pipette object at 0x1101cd908>\n",
      "C 3 PCR-strip-tall\n",
      "<opentrons.instruments.pipette.Pipette object at 0x1101cd908>\n",
      "D 1 holywastedplasticbatman\n",
      "<opentrons.instruments.pipette.Pipette object at 0x1101cd908>\n",
      "E 1 tiprack-10ul\n",
      "<opentrons.instruments.pipette.Pipette object at 0x1101cd908>\n",
      "E 2 tiprack-10ul\n",
      "<opentrons.instruments.pipette.Pipette object at 0x1101cd908>\n",
      "E 3 tiprack-10ul\n",
      "<opentrons.instruments.pipette.Pipette object at 0x1101cd908>\n",
      "               A    B               C                        D             E\n",
      "3  tiprack-200ul  ---  PCR-strip-tall                      ---  tiprack-10ul\n",
      "2            ---  ---     96-PCR-tall                      ---  tiprack-10ul\n",
      "1            ---  ---             ---  holywastedplasticbatman  tiprack-10ul\n"
     ]
    }
   ],
   "source": [
    "import numpy as np\n",
    "import pandas as pd\n",
    "\n",
    "def display_deck(robot):\n",
    "    df = pd.DataFrame(np.zeros((3,5)), columns=['A','B','C','D','E'], index=['3','2','1'])\n",
    "    df.loc[:,:] = \"---\"\n",
    "\n",
    "    for slot in robot.deck:\n",
    "        for child in slot.get_children_list():\n",
    "            print(slot.get_name()[0],slot.get_name()[1],child.get_name())\n",
    "            df.loc[slot.get_name()[1],slot.get_name()[0]] = child.get_name()\n",
    "            print(p10.move_to(child[0]))\n",
    "    print(df)\n",
    "display_deck(robot)\n",
    "\n"
   ]
  },
  {
   "cell_type": "code",
   "execution_count": null,
   "metadata": {},
   "outputs": [],
   "source": [
    "import numpy as np\n",
    "import pandas as pd\n",
    "\n",
    "def display_deck():\n",
    "    df = pd.DataFrame(np.zeros((3,5)), columns=['A','B','C','D','E'], index=['3','2','1'])\n",
    "    df.loc[:,:] = \"---\"\n",
    "\n",
    "    for container, placeable in robot.containers().items():\n",
    "        print(container,placeable)\n",
    "        coord = list(placeable.get_parent().get_name())\n",
    "        df.loc[coord[1],coord[0]] = placeable.get_name()\n",
    "\n",
    "    print(df)"
   ]
  },
  {
   "cell_type": "code",
   "execution_count": null,
   "metadata": {},
   "outputs": [],
   "source": []
  },
  {
   "cell_type": "code",
   "execution_count": null,
   "metadata": {},
   "outputs": [],
   "source": [
    "placeable.unpack_location(dest_plate)"
   ]
  },
  {
   "cell_type": "code",
   "execution_count": null,
   "metadata": {},
   "outputs": [],
   "source": [
    "deck = master.get_deck()\n",
    "print(deck)\n",
    "containers = deck.containers()\n",
    "print(containers)\n",
    "for con in containers:\n",
    "    print(con,containers[con])"
   ]
  },
  {
   "cell_type": "code",
   "execution_count": null,
   "metadata": {},
   "outputs": [],
   "source": [
    "def initialize_pipettes():\n",
    "    # Declare all of the pipettes\n",
    "    p10 = instruments.Pipette(\n",
    "        axis='a',\n",
    "        max_volume=10,\n",
    "        min_volume=0.5,\n",
    "        tip_racks=p10_tipracks,\n",
    "        trash_container=trash,\n",
    "        channels=8,\n",
    "        name='p10-8',\n",
    "        aspirate_speed=400,\n",
    "        dispense_speed=800\n",
    "    )\n",
    "\n",
    "    p10s = instruments.Pipette(\n",
    "        axis='a',\n",
    "        max_volume=10,\n",
    "        min_volume=0.5,\n",
    "        tip_racks=p10s_tipracks,\n",
    "        trash_container=trash,\n",
    "        channels=1,\n",
    "        name='p10-8s',\n",
    "        aspirate_speed=400,\n",
    "        dispense_speed=800\n",
    "    )\n",
    "\n",
    "    p200 = instruments.Pipette(\n",
    "        axis='b',\n",
    "        max_volume=200,\n",
    "        min_volume=20,\n",
    "        tip_racks=p200_tipracks,\n",
    "        trash_container=trash,\n",
    "        channels=1,\n",
    "        name='p200-1',\n",
    "        aspirate_speed=400,\n",
    "        dispense_speed=800\n",
    "    )\n",
    "    return p10,p10s,p200"
   ]
  },
  {
   "cell_type": "code",
   "execution_count": null,
   "metadata": {},
   "outputs": [],
   "source": [
    "robot.containers()"
   ]
  },
  {
   "cell_type": "code",
   "execution_count": null,
   "metadata": {},
   "outputs": [],
   "source": [
    "display_deck()\n",
    "p10,p10s,p200 = initialize_pipettes()"
   ]
  },
  {
   "cell_type": "code",
   "execution_count": null,
   "metadata": {},
   "outputs": [],
   "source": [
    "p200.pick_up_tip()"
   ]
  },
  {
   "cell_type": "code",
   "execution_count": null,
   "metadata": {},
   "outputs": [],
   "source": [
    "import getch\n",
    "\n",
    "while True:\n",
    "    c = getch.getch()\n",
    "    if c == \"s\":\n",
    "        print(\"Up 20mm\")\n",
    "        p10.robot._driver.move(z=20,mode=\"relative\")\n",
    "        z += 20\n",
    "    elif c == \"d\":\n",
    "        print(\"Up 5mm\")\n",
    "        p10.robot._driver.move(z=5,mode=\"relative\")\n",
    "        z += 5\n",
    "    elif c == \"f\":\n",
    "        print(\"Up 0.5mm\")\n",
    "        p10.robot._driver.move(z=0.5,mode=\"relative\")\n",
    "        z += 0.5\n",
    "    elif c == \"g\":\n",
    "        print(\"Up 0.1mm\")\n",
    "        p10.robot._driver.move(z=0.1,mode=\"relative\")\n",
    "        z += 0.1\n",
    "    elif c == \"h\":\n",
    "        print(\"Down 0.1mm\")\n",
    "        p10.robot._driver.move(z=-0.1,mode=\"relative\")\n",
    "        z += -0.1\n",
    "    elif c == \"j\":\n",
    "        print(\"Down 0.5mm\")\n",
    "        p10.robot._driver.move(z=-0.5,mode=\"relative\")\n",
    "        z += -0.5\n",
    "    elif c == \"k\":\n",
    "        print(\"Down 5mm\")\n",
    "        p10.robot._driver.move(z=-5,mode=\"relative\")\n",
    "        z += -5\n",
    "    elif c == \"l\":\n",
    "        print(\"Down 20mm\")\n",
    "        p10.robot._driver.move(z=-20,mode=\"relative\")\n",
    "        z += -10\n",
    "    elif c == \"x\":\n",
    "        print(\"Exit\")\n",
    "        break"
   ]
  },
  {
   "cell_type": "code",
   "execution_count": null,
   "metadata": {},
   "outputs": [],
   "source": []
  }
 ],
 "metadata": {
  "kernelspec": {
   "display_name": "Python 3",
   "language": "python",
   "name": "python3"
  },
  "language_info": {
   "codemirror_mode": {
    "name": "ipython",
    "version": 3
   },
   "file_extension": ".py",
   "mimetype": "text/x-python",
   "name": "python",
   "nbconvert_exporter": "python",
   "pygments_lexer": "ipython3",
   "version": "3.6.4"
  }
 },
 "nbformat": 4,
 "nbformat_minor": 2
}
