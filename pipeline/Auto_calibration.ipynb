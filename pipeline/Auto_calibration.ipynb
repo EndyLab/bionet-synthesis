{
 "cells": [
  {
   "cell_type": "code",
   "execution_count": 18,
   "metadata": {},
   "outputs": [],
   "source": [
    "from opentrons import robot, containers, instruments\n",
    "from opentrons.containers import placeable\n",
    "\n",
    "master = containers.load('PCR-strip-tall', 'C3')\n",
    "dest_plate = containers.load('96-PCR-tall', 'C2')\n",
    "\n",
    "# Declare components on the deck\n",
    "p200_tipracks = [\n",
    "    containers.load('tiprack-200ul', 'A3'),\n",
    "]\n",
    "p10_tipracks = [\n",
    "    containers.load('tiprack-10ul', 'E1'),\n",
    "]\n",
    "p10s_tipracks = [\n",
    "    containers.load('tiprack-10ul', 'E2'),\n",
    "    containers.load('tiprack-10ul', 'E3')\n",
    "]\n",
    "\n",
    "trash = containers.load('point', 'D1', 'holywastedplasticbatman')\n"
   ]
  },
  {
   "cell_type": "code",
   "execution_count": 26,
   "metadata": {},
   "outputs": [
    {
     "data": {
      "text/plain": [
       "(<Deck><Slot C2><Container 96-PCR-tall>, (x=0.00, y=0.00, z=0.00))"
      ]
     },
     "execution_count": 26,
     "metadata": {},
     "output_type": "execute_result"
    }
   ],
   "source": [
    "placeable.unpack_location(dest_plate)"
   ]
  },
  {
   "cell_type": "code",
   "execution_count": 20,
   "metadata": {},
   "outputs": [
    {
     "name": "stdout",
     "output_type": "stream",
     "text": [
      "<Deck>\n",
      "OrderedDict([('tiprack-200ul', <Deck><Slot A3><Container tiprack-200ul>), ('96-PCR-tall', <Deck><Slot C2><Container 96-PCR-tall>), ('PCR-strip-tall', <Deck><Slot C3><Container PCR-strip-tall>), ('holywastedplasticbatman', <Deck><Slot D1><Container holywastedplasticbatman>), ('tiprack-10ul', <Deck><Slot E3><Container tiprack-10ul>)])\n",
      "tiprack-200ul <Container tiprack-200ul>\n",
      "96-PCR-tall <Container 96-PCR-tall>\n",
      "PCR-strip-tall <Container PCR-strip-tall>\n",
      "holywastedplasticbatman <Container holywastedplasticbatman>\n",
      "tiprack-10ul <Container tiprack-10ul>\n"
     ]
    }
   ],
   "source": [
    "deck = master.get_deck()\n",
    "print(deck)\n",
    "containers = deck.containers()\n",
    "print(containers)\n",
    "for con in containers:\n",
    "    print(con,containers[con])"
   ]
  },
  {
   "cell_type": "code",
   "execution_count": 21,
   "metadata": {},
   "outputs": [],
   "source": [
    "def initialize_pipettes():\n",
    "    # Declare all of the pipettes\n",
    "    p10 = instruments.Pipette(\n",
    "        axis='a',\n",
    "        max_volume=10,\n",
    "        min_volume=0.5,\n",
    "        tip_racks=p10_tipracks,\n",
    "        trash_container=trash,\n",
    "        channels=8,\n",
    "        name='p10-8',\n",
    "        aspirate_speed=400,\n",
    "        dispense_speed=800\n",
    "    )\n",
    "\n",
    "    p10s = instruments.Pipette(\n",
    "        axis='a',\n",
    "        max_volume=10,\n",
    "        min_volume=0.5,\n",
    "        tip_racks=p10s_tipracks,\n",
    "        trash_container=trash,\n",
    "        channels=1,\n",
    "        name='p10-8s',\n",
    "        aspirate_speed=400,\n",
    "        dispense_speed=800\n",
    "    )\n",
    "\n",
    "    p200 = instruments.Pipette(\n",
    "        axis='b',\n",
    "        max_volume=200,\n",
    "        min_volume=20,\n",
    "        tip_racks=p200_tipracks,\n",
    "        trash_container=trash,\n",
    "        channels=1,\n",
    "        name='p200-1',\n",
    "        aspirate_speed=400,\n",
    "        dispense_speed=800\n",
    "    )\n",
    "    return p10,p10s,p200"
   ]
  },
  {
   "cell_type": "code",
   "execution_count": 22,
   "metadata": {},
   "outputs": [],
   "source": [
    "import numpy as np\n",
    "import pandas as pd\n",
    "\n",
    "def display_deck():\n",
    "    df = pd.DataFrame(np.zeros((3,5)), columns=['A','B','C','D','E'], index=['3','2','1'])\n",
    "    df.loc[:,:] = \"---\"\n",
    "\n",
    "    for container, placeable in robot.containers().items():\n",
    "        print(container,placeable)\n",
    "        coord = list(placeable.get_parent().get_name())\n",
    "        df.loc[coord[1],coord[0]] = placeable.get_name()\n",
    "\n",
    "    print(df)"
   ]
  },
  {
   "cell_type": "code",
   "execution_count": 23,
   "metadata": {},
   "outputs": [
    {
     "name": "stdout",
     "output_type": "stream",
     "text": [
      "tiprack-200ul <Container tiprack-200ul>\n",
      "96-PCR-tall <Container 96-PCR-tall>\n",
      "PCR-strip-tall <Container PCR-strip-tall>\n",
      "holywastedplasticbatman <Container holywastedplasticbatman>\n",
      "tiprack-10ul <Container tiprack-10ul>\n",
      "               A    B               C                        D             E\n",
      "3  tiprack-200ul  ---  PCR-strip-tall                      ---  tiprack-10ul\n",
      "2            ---  ---     96-PCR-tall                      ---           ---\n",
      "1            ---  ---             ---  holywastedplasticbatman           ---\n"
     ]
    }
   ],
   "source": [
    "display_deck()\n",
    "p10,p10s,p200 = initialize_pipettes()"
   ]
  },
  {
   "cell_type": "code",
   "execution_count": 11,
   "metadata": {},
   "outputs": [
    {
     "data": {
      "text/plain": [
       "<opentrons.instruments.pipette.Pipette at 0x1105b7780>"
      ]
     },
     "execution_count": 11,
     "metadata": {},
     "output_type": "execute_result"
    }
   ],
   "source": [
    "p200.pick_up_tip()"
   ]
  },
  {
   "cell_type": "code",
   "execution_count": 27,
   "metadata": {},
   "outputs": [
    {
     "ename": "OverflowError",
     "evalue": "character argument not in range(0x110000)",
     "output_type": "error",
     "traceback": [
      "\u001b[0;31m---------------------------------------------------------------------------\u001b[0m",
      "\u001b[0;31mOverflowError\u001b[0m                             Traceback (most recent call last)",
      "\u001b[0;32m<ipython-input-27-a55f8d45a6ee>\u001b[0m in \u001b[0;36m<module>\u001b[0;34m()\u001b[0m\n\u001b[1;32m      2\u001b[0m \u001b[0;34m\u001b[0m\u001b[0m\n\u001b[1;32m      3\u001b[0m \u001b[0;32mwhile\u001b[0m \u001b[0;32mTrue\u001b[0m\u001b[0;34m:\u001b[0m\u001b[0;34m\u001b[0m\u001b[0m\n\u001b[0;32m----> 4\u001b[0;31m     \u001b[0mc\u001b[0m \u001b[0;34m=\u001b[0m \u001b[0mgetch\u001b[0m\u001b[0;34m.\u001b[0m\u001b[0mgetch\u001b[0m\u001b[0;34m(\u001b[0m\u001b[0;34m)\u001b[0m\u001b[0;34m\u001b[0m\u001b[0m\n\u001b[0m\u001b[1;32m      5\u001b[0m     \u001b[0;32mif\u001b[0m \u001b[0mc\u001b[0m \u001b[0;34m==\u001b[0m \u001b[0;34m\"s\"\u001b[0m\u001b[0;34m:\u001b[0m\u001b[0;34m\u001b[0m\u001b[0m\n\u001b[1;32m      6\u001b[0m         \u001b[0mprint\u001b[0m\u001b[0;34m(\u001b[0m\u001b[0;34m\"Up 20mm\"\u001b[0m\u001b[0;34m)\u001b[0m\u001b[0;34m\u001b[0m\u001b[0m\n",
      "\u001b[0;31mOverflowError\u001b[0m: character argument not in range(0x110000)"
     ]
    }
   ],
   "source": [
    "import getch\n",
    "\n",
    "while True:\n",
    "    c = getch.getch()\n",
    "    if c == \"s\":\n",
    "        print(\"Up 20mm\")\n",
    "        p10.robot._driver.move(z=20,mode=\"relative\")\n",
    "        z += 20\n",
    "    elif c == \"d\":\n",
    "        print(\"Up 5mm\")\n",
    "        p10.robot._driver.move(z=5,mode=\"relative\")\n",
    "        z += 5\n",
    "    elif c == \"f\":\n",
    "        print(\"Up 0.5mm\")\n",
    "        p10.robot._driver.move(z=0.5,mode=\"relative\")\n",
    "        z += 0.5\n",
    "    elif c == \"g\":\n",
    "        print(\"Up 0.1mm\")\n",
    "        p10.robot._driver.move(z=0.1,mode=\"relative\")\n",
    "        z += 0.1\n",
    "    elif c == \"h\":\n",
    "        print(\"Down 0.1mm\")\n",
    "        p10.robot._driver.move(z=-0.1,mode=\"relative\")\n",
    "        z += -0.1\n",
    "    elif c == \"j\":\n",
    "        print(\"Down 0.5mm\")\n",
    "        p10.robot._driver.move(z=-0.5,mode=\"relative\")\n",
    "        z += -0.5\n",
    "    elif c == \"k\":\n",
    "        print(\"Down 5mm\")\n",
    "        p10.robot._driver.move(z=-5,mode=\"relative\")\n",
    "        z += -5\n",
    "    elif c == \"l\":\n",
    "        print(\"Down 20mm\")\n",
    "        p10.robot._driver.move(z=-20,mode=\"relative\")\n",
    "        z += -10\n",
    "    elif c == \"x\":\n",
    "        print(\"Exit\")\n",
    "        break"
   ]
  },
  {
   "cell_type": "code",
   "execution_count": null,
   "metadata": {},
   "outputs": [],
   "source": []
  }
 ],
 "metadata": {
  "kernelspec": {
   "display_name": "Python 3",
   "language": "python",
   "name": "python3"
  },
  "language_info": {
   "codemirror_mode": {
    "name": "ipython",
    "version": 3
   },
   "file_extension": ".py",
   "mimetype": "text/x-python",
   "name": "python",
   "nbconvert_exporter": "python",
   "pygments_lexer": "ipython3",
   "version": "3.6.4"
  }
 },
 "nbformat": 4,
 "nbformat_minor": 2
}
