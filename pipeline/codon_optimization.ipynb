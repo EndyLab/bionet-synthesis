{
 "cells": [
  {
   "cell_type": "code",
   "execution_count": 19,
   "metadata": {
    "collapsed": true
   },
   "outputs": [],
   "source": [
    "import pandas as pd\n",
    "import json\n",
    "import glob\n",
    "from config import *\n",
    "import optimize\n",
    "import codon"
   ]
  },
  {
   "cell_type": "code",
   "execution_count": 20,
   "metadata": {
    "collapsed": true
   },
   "outputs": [],
   "source": [
    "from Bio import SeqIO\n",
    "from Bio.Seq import Seq\n"
   ]
  },
  {
   "cell_type": "code",
   "execution_count": 21,
   "metadata": {},
   "outputs": [
    {
     "name": "stdout",
     "output_type": "stream",
     "text": [
      "['ATG', 'AAC', 'TTC', 'TCT', 'ATT', 'AAT', 'CGT', 'ATG', 'GTT', 'TTG', 'TTA', 'GAT', 'AAT', 'CTG', 'TCG', 'AAA', 'GCT', 'GCA', 'AAG', 'GTT', 'ATT', 'GAT', 'CCA', 'AAG', 'AAC', 'GTG', 'AAC', 'CCC', 'TCG', 'CTT', 'GCT', 'GGA', 'ATT', 'TAT', 'TTG', 'AAC', 'GTG', 'TTA', 'TCA', 'GAT', 'CAA', 'GTC', 'AAC', 'ATT', 'ATC', 'GCG', 'ACC', 'TCA', 'GGC', 'ATT', 'TTA', 'TCC', 'TTT', 'AAG', 'TCT', 'ATT', 'CTT', 'AAT', 'AAT', 'CAG', 'AAT', 'AGC', 'GAC', 'TTG', 'GAG', 'GTA', 'AAG', 'CAA', 'GAA', 'GGG', 'AAA', 'GTC', 'TTA', 'CTG', 'AAA', 'CCA', 'AAG', 'TTC', 'GTG', 'CTT', 'GAG', 'ATG', 'TTG', 'CGC', 'CGT', 'CTG', 'GAT', 'GAC', 'GAA', 'TTC', 'GTT', 'GTG', 'TTC', 'AGC', 'ATG', 'GTA', 'GAG', 'GAC', 'AAC', 'GAG', 'TTA', 'ATC', 'ATC', 'AAA', 'ACA', 'GAC', 'AAT', 'TCA', 'GAT', 'TTT', 'AGC', 'ATT', 'GGG', 'GTA', 'TTA', 'AAT', 'AGT', 'GAG', 'GAC', 'TAC', 'CCA', 'CTT', 'ATT', 'GGG', 'TTC', 'CGC', 'GAA', 'AAA', 'GGC', 'ATT', 'GAG', 'TTT', 'AAT', 'CTG', 'AAT', 'CCT', 'AAG', 'GAA', 'GTT', 'AAG', 'AAA', 'ACT', 'ATC', 'TAT', 'CAG', 'GTT', 'TTT', 'GTA', 'TCT', 'ATG', 'AAC', 'GAG', 'AAT', 'AAC', 'AAA', 'AAA', 'TTA', 'ATT', 'TTG', 'ACA', 'GGA', 'TTA', 'AAC', 'CTT', 'AAA', 'CTT', 'AAC', 'AAT', 'AAC', 'AAA', 'GCA', 'ATT', 'TTT', 'AGC', 'ACC', 'ACC', 'GAT', 'TCC', 'TTT', 'CGC', 'ATC', 'TCG', 'CAG', 'AAA', 'ATT', 'CTG', 'GAA', 'ATT', 'CAG', 'AGC', 'GAT', 'AAT', 'AAT', 'GAG', 'GAT', 'ATT', 'GAC', 'ATC', 'ACA', 'ATC', 'CCG', 'TTC', 'AAA', 'ACT', 'GCC', 'TTA', 'GAG', 'TTG', 'CCG', 'AAA', 'CTG', 'TTA', 'GAC', 'AAC', 'GCG', 'GAA', 'AAT', 'CTG', 'AAG', 'ATT', 'ATT', 'ATC', 'GTC', 'GAA', 'GGC', 'TAC', 'ATT', 'ACG', 'TTC', 'ATT', 'ATT', 'GAT', 'AAT', 'GTC', 'ATT', 'TTC', 'CAA', 'TCT', 'AAT', 'CTT', 'ATC', 'GAC', 'GGT', 'CGT', 'TTC', 'CCA', 'AAT', 'GTC', 'CAG', 'ATT', 'GCG', 'TTT', 'CCG', 'ACT', 'AAA', 'TTT', 'GAA', 'ACG', 'ATC', 'ATC', 'ACC', 'GTG', 'AAA', 'CAA', 'AAG', 'TCC', 'ATC', 'CTG', 'AAG', 'GTG', 'TTA', 'TCG', 'CGT', 'TTC', 'GAC', 'TTG', 'GTC', 'GCA', 'GAT', 'GAC', 'GGC', 'TTA', 'CCG', 'GCC', 'ATT', 'GTA', 'AAC', 'ATT', 'AAG', 'GTG', 'AAT', 'GAG', 'GAT', 'AAG', 'ATC', 'GAG', 'TTC', 'AAA', 'TCA', 'TTC', 'ATC', 'TCT', 'GAG', 'GTG', 'GGG', 'AAG', 'TAC', 'GAA', 'GAG', 'GAT', 'TTC', 'GAC', 'GAC', 'TTT', 'GTC', 'ATC', 'GAG', 'GGG', 'AAT', 'AAG', 'TCT', 'CTG', 'AGT', 'ATC', 'TCA', 'TTC', 'AAC', 'ACT', 'CGC', 'TTT', 'CTT', 'ATT', 'GAT', 'GCC', 'ATC', 'AAA', 'ACT', 'CTT', 'GAC', 'GAA', 'GAT', 'CGT', 'ATC', 'GAA', 'TTG', 'AAA', 'TTG', 'ATT', 'AAC', 'TCC', 'ACT', 'AAG', 'CCA', 'ATC', 'GTG', 'ATC', 'AAC', 'AAT', 'GTC', 'TAC', 'GAC', 'GAA', 'CAC', 'TTG', 'AAA', 'CAG', 'GTT', 'ATT', 'TTG', 'CCT', 'ACC', 'TTT', 'TTA', 'TCA', 'AAC', 'TGA']\n",
      "in codon_table\n",
      "found in COMMON_SPECIES\n",
      "New id:  4932\n",
      "in codon_table\n",
      "in 10plus\n",
      "3\n",
      "in 10plus\n"
     ]
    },
    {
     "name": "stderr",
     "output_type": "stream",
     "text": [
      "/Users/conarymeyer/anaconda/lib/python3.6/site-packages/ipykernel_launcher.py:22: DeprecationWarning: \n",
      ".ix is deprecated. Please use\n",
      ".loc for label based indexing or\n",
      ".iloc for positional indexing\n",
      "\n",
      "See the documentation here:\n",
      "http://pandas.pydata.org/pandas-docs/stable/indexing.html#deprecate_ix\n"
     ]
    },
    {
     "ename": "KeyError",
     "evalue": "<module 'codon' from '/Users/conarymeyer/Desktop/GitHub/bionet-synthesis/pipeline/codon.py'>",
     "output_type": "error",
     "traceback": [
      "\u001b[0;31m---------------------------------------------------------------------------\u001b[0m",
      "\u001b[0;31mKeyError\u001b[0m                                  Traceback (most recent call last)",
      "\u001b[0;32m/Users/conarymeyer/anaconda/lib/python3.6/site-packages/pandas/core/indexes/base.py\u001b[0m in \u001b[0;36mget_loc\u001b[0;34m(self, key, method, tolerance)\u001b[0m\n\u001b[1;32m   2392\u001b[0m             \u001b[0;32mtry\u001b[0m\u001b[0;34m:\u001b[0m\u001b[0;34m\u001b[0m\u001b[0m\n\u001b[0;32m-> 2393\u001b[0;31m                 \u001b[0;32mreturn\u001b[0m \u001b[0mself\u001b[0m\u001b[0;34m.\u001b[0m\u001b[0m_engine\u001b[0m\u001b[0;34m.\u001b[0m\u001b[0mget_loc\u001b[0m\u001b[0;34m(\u001b[0m\u001b[0mkey\u001b[0m\u001b[0;34m)\u001b[0m\u001b[0;34m\u001b[0m\u001b[0m\n\u001b[0m\u001b[1;32m   2394\u001b[0m             \u001b[0;32mexcept\u001b[0m \u001b[0mKeyError\u001b[0m\u001b[0;34m:\u001b[0m\u001b[0;34m\u001b[0m\u001b[0m\n",
      "\u001b[0;32mpandas/_libs/index.pyx\u001b[0m in \u001b[0;36mpandas._libs.index.IndexEngine.get_loc (pandas/_libs/index.c:5239)\u001b[0;34m()\u001b[0m\n",
      "\u001b[0;32mpandas/_libs/index.pyx\u001b[0m in \u001b[0;36mpandas._libs.index.IndexEngine.get_loc (pandas/_libs/index.c:5085)\u001b[0;34m()\u001b[0m\n",
      "\u001b[0;32mpandas/_libs/hashtable_class_helper.pxi\u001b[0m in \u001b[0;36mpandas._libs.hashtable.PyObjectHashTable.get_item (pandas/_libs/hashtable.c:20405)\u001b[0;34m()\u001b[0m\n",
      "\u001b[0;32mpandas/_libs/hashtable_class_helper.pxi\u001b[0m in \u001b[0;36mpandas._libs.hashtable.PyObjectHashTable.get_item (pandas/_libs/hashtable.c:20359)\u001b[0;34m()\u001b[0m\n",
      "\u001b[0;31mKeyError\u001b[0m: <module 'codon' from '/Users/conarymeyer/Desktop/GitHub/bionet-synthesis/pipeline/codon.py'>",
      "\nDuring handling of the above exception, another exception occurred:\n",
      "\u001b[0;31mKeyError\u001b[0m                                  Traceback (most recent call last)",
      "\u001b[0;32m<ipython-input-21-49d5acce9873>\u001b[0m in \u001b[0;36m<module>\u001b[0;34m()\u001b[0m\n\u001b[1;32m     20\u001b[0m \u001b[0;32mfor\u001b[0m \u001b[0mi\u001b[0m \u001b[0;32min\u001b[0m \u001b[0mrange\u001b[0m\u001b[0;34m(\u001b[0m\u001b[0mpos\u001b[0m\u001b[0;34m,\u001b[0m \u001b[0mpos\u001b[0m \u001b[0;34m+\u001b[0m \u001b[0;34m(\u001b[0m\u001b[0mlen\u001b[0m\u001b[0;34m(\u001b[0m\u001b[0mrep\u001b[0m\u001b[0;34m)\u001b[0m \u001b[0;34m//\u001b[0m \u001b[0;36m3\u001b[0m \u001b[0;34m+\u001b[0m \u001b[0;36m1\u001b[0m\u001b[0;34m)\u001b[0m \u001b[0;34m*\u001b[0m \u001b[0;36m3\u001b[0m\u001b[0;34m,\u001b[0m \u001b[0;36m3\u001b[0m\u001b[0;34m)\u001b[0m\u001b[0;34m:\u001b[0m\u001b[0;34m\u001b[0m\u001b[0m\n\u001b[1;32m     21\u001b[0m     \u001b[0mstart_codon\u001b[0m \u001b[0;34m=\u001b[0m \u001b[0mstart_seq\u001b[0m\u001b[0;34m[\u001b[0m\u001b[0mi\u001b[0m\u001b[0;34m:\u001b[0m\u001b[0mi\u001b[0m\u001b[0;34m+\u001b[0m\u001b[0;36m3\u001b[0m\u001b[0;34m]\u001b[0m\u001b[0;34m\u001b[0m\u001b[0m\n\u001b[0;32m---> 22\u001b[0;31m     \u001b[0mchoices\u001b[0m \u001b[0;34m=\u001b[0m \u001b[0mcodon\u001b[0m\u001b[0;34m.\u001b[0m\u001b[0mcodon_table_10plus\u001b[0m\u001b[0;34m(\u001b[0m\u001b[0mtable\u001b[0m\u001b[0;34m)\u001b[0m\u001b[0;34m.\u001b[0m\u001b[0mix\u001b[0m\u001b[0;34m[\u001b[0m\u001b[0mtable\u001b[0m\u001b[0;34m.\u001b[0m\u001b[0mix\u001b[0m\u001b[0;34m[\u001b[0m\u001b[0mcodon\u001b[0m\u001b[0;34m]\u001b[0m\u001b[0;34m]\u001b[0m\u001b[0;34m\u001b[0m\u001b[0m\n\u001b[0m\u001b[1;32m     23\u001b[0m     \u001b[0mchoices\u001b[0m \u001b[0;34m=\u001b[0m \u001b[0mchoices\u001b[0m\u001b[0;34m[\u001b[0m\u001b[0mchoices\u001b[0m\u001b[0;34m.\u001b[0m\u001b[0mindex\u001b[0m \u001b[0;34m!=\u001b[0m \u001b[0mcodon\u001b[0m\u001b[0;34m]\u001b[0m\u001b[0;34m\u001b[0m\u001b[0m\n\u001b[1;32m     24\u001b[0m \u001b[0;34m\u001b[0m\u001b[0m\n",
      "\u001b[0;32m/Users/conarymeyer/anaconda/lib/python3.6/site-packages/pandas/core/indexing.py\u001b[0m in \u001b[0;36m__getitem__\u001b[0;34m(self, key)\u001b[0m\n\u001b[1;32m    119\u001b[0m         \u001b[0;32melse\u001b[0m\u001b[0;34m:\u001b[0m\u001b[0;34m\u001b[0m\u001b[0m\n\u001b[1;32m    120\u001b[0m             \u001b[0mkey\u001b[0m \u001b[0;34m=\u001b[0m \u001b[0mcom\u001b[0m\u001b[0;34m.\u001b[0m\u001b[0m_apply_if_callable\u001b[0m\u001b[0;34m(\u001b[0m\u001b[0mkey\u001b[0m\u001b[0;34m,\u001b[0m \u001b[0mself\u001b[0m\u001b[0;34m.\u001b[0m\u001b[0mobj\u001b[0m\u001b[0;34m)\u001b[0m\u001b[0;34m\u001b[0m\u001b[0m\n\u001b[0;32m--> 121\u001b[0;31m             \u001b[0;32mreturn\u001b[0m \u001b[0mself\u001b[0m\u001b[0;34m.\u001b[0m\u001b[0m_getitem_axis\u001b[0m\u001b[0;34m(\u001b[0m\u001b[0mkey\u001b[0m\u001b[0;34m,\u001b[0m \u001b[0maxis\u001b[0m\u001b[0;34m=\u001b[0m\u001b[0;36m0\u001b[0m\u001b[0;34m)\u001b[0m\u001b[0;34m\u001b[0m\u001b[0m\n\u001b[0m\u001b[1;32m    122\u001b[0m \u001b[0;34m\u001b[0m\u001b[0m\n\u001b[1;32m    123\u001b[0m     \u001b[0;32mdef\u001b[0m \u001b[0m_get_label\u001b[0m\u001b[0;34m(\u001b[0m\u001b[0mself\u001b[0m\u001b[0;34m,\u001b[0m \u001b[0mlabel\u001b[0m\u001b[0;34m,\u001b[0m \u001b[0maxis\u001b[0m\u001b[0;34m=\u001b[0m\u001b[0;36m0\u001b[0m\u001b[0;34m)\u001b[0m\u001b[0;34m:\u001b[0m\u001b[0;34m\u001b[0m\u001b[0m\n",
      "\u001b[0;32m/Users/conarymeyer/anaconda/lib/python3.6/site-packages/pandas/core/indexing.py\u001b[0m in \u001b[0;36m_getitem_axis\u001b[0;34m(self, key, axis)\u001b[0m\n\u001b[1;32m   1075\u001b[0m                     \u001b[0;32mreturn\u001b[0m \u001b[0mself\u001b[0m\u001b[0;34m.\u001b[0m\u001b[0m_get_loc\u001b[0m\u001b[0;34m(\u001b[0m\u001b[0mkey\u001b[0m\u001b[0;34m,\u001b[0m \u001b[0maxis\u001b[0m\u001b[0;34m=\u001b[0m\u001b[0maxis\u001b[0m\u001b[0;34m)\u001b[0m\u001b[0;34m\u001b[0m\u001b[0m\n\u001b[1;32m   1076\u001b[0m \u001b[0;34m\u001b[0m\u001b[0m\n\u001b[0;32m-> 1077\u001b[0;31m             \u001b[0;32mreturn\u001b[0m \u001b[0mself\u001b[0m\u001b[0;34m.\u001b[0m\u001b[0m_get_label\u001b[0m\u001b[0;34m(\u001b[0m\u001b[0mkey\u001b[0m\u001b[0;34m,\u001b[0m \u001b[0maxis\u001b[0m\u001b[0;34m=\u001b[0m\u001b[0maxis\u001b[0m\u001b[0;34m)\u001b[0m\u001b[0;34m\u001b[0m\u001b[0m\n\u001b[0m\u001b[1;32m   1078\u001b[0m \u001b[0;34m\u001b[0m\u001b[0m\n\u001b[1;32m   1079\u001b[0m     \u001b[0;32mdef\u001b[0m \u001b[0m_getitem_iterable\u001b[0m\u001b[0;34m(\u001b[0m\u001b[0mself\u001b[0m\u001b[0;34m,\u001b[0m \u001b[0mkey\u001b[0m\u001b[0;34m,\u001b[0m \u001b[0maxis\u001b[0m\u001b[0;34m=\u001b[0m\u001b[0;36m0\u001b[0m\u001b[0;34m)\u001b[0m\u001b[0;34m:\u001b[0m\u001b[0;34m\u001b[0m\u001b[0m\n",
      "\u001b[0;32m/Users/conarymeyer/anaconda/lib/python3.6/site-packages/pandas/core/indexing.py\u001b[0m in \u001b[0;36m_get_label\u001b[0;34m(self, label, axis)\u001b[0m\n\u001b[1;32m    134\u001b[0m             \u001b[0;32mraise\u001b[0m \u001b[0mIndexingError\u001b[0m\u001b[0;34m(\u001b[0m\u001b[0;34m'no slices here, handle elsewhere'\u001b[0m\u001b[0;34m)\u001b[0m\u001b[0;34m\u001b[0m\u001b[0m\n\u001b[1;32m    135\u001b[0m \u001b[0;34m\u001b[0m\u001b[0m\n\u001b[0;32m--> 136\u001b[0;31m         \u001b[0;32mreturn\u001b[0m \u001b[0mself\u001b[0m\u001b[0;34m.\u001b[0m\u001b[0mobj\u001b[0m\u001b[0;34m.\u001b[0m\u001b[0m_xs\u001b[0m\u001b[0;34m(\u001b[0m\u001b[0mlabel\u001b[0m\u001b[0;34m,\u001b[0m \u001b[0maxis\u001b[0m\u001b[0;34m=\u001b[0m\u001b[0maxis\u001b[0m\u001b[0;34m)\u001b[0m\u001b[0;34m\u001b[0m\u001b[0m\n\u001b[0m\u001b[1;32m    137\u001b[0m \u001b[0;34m\u001b[0m\u001b[0m\n\u001b[1;32m    138\u001b[0m     \u001b[0;32mdef\u001b[0m \u001b[0m_get_loc\u001b[0m\u001b[0;34m(\u001b[0m\u001b[0mself\u001b[0m\u001b[0;34m,\u001b[0m \u001b[0mkey\u001b[0m\u001b[0;34m,\u001b[0m \u001b[0maxis\u001b[0m\u001b[0;34m=\u001b[0m\u001b[0;36m0\u001b[0m\u001b[0;34m)\u001b[0m\u001b[0;34m:\u001b[0m\u001b[0;34m\u001b[0m\u001b[0m\n",
      "\u001b[0;32m/Users/conarymeyer/anaconda/lib/python3.6/site-packages/pandas/core/generic.py\u001b[0m in \u001b[0;36mxs\u001b[0;34m(self, key, axis, level, drop_level)\u001b[0m\n\u001b[1;32m   1917\u001b[0m         \u001b[0;32mif\u001b[0m \u001b[0misinstance\u001b[0m\u001b[0;34m(\u001b[0m\u001b[0mindex\u001b[0m\u001b[0;34m,\u001b[0m \u001b[0mMultiIndex\u001b[0m\u001b[0;34m)\u001b[0m\u001b[0;34m:\u001b[0m\u001b[0;34m\u001b[0m\u001b[0m\n\u001b[1;32m   1918\u001b[0m             loc, new_index = self.index.get_loc_level(key,\n\u001b[0;32m-> 1919\u001b[0;31m                                                       drop_level=drop_level)\n\u001b[0m\u001b[1;32m   1920\u001b[0m         \u001b[0;32melse\u001b[0m\u001b[0;34m:\u001b[0m\u001b[0;34m\u001b[0m\u001b[0m\n\u001b[1;32m   1921\u001b[0m             \u001b[0mloc\u001b[0m \u001b[0;34m=\u001b[0m \u001b[0mself\u001b[0m\u001b[0;34m.\u001b[0m\u001b[0mindex\u001b[0m\u001b[0;34m.\u001b[0m\u001b[0mget_loc\u001b[0m\u001b[0;34m(\u001b[0m\u001b[0mkey\u001b[0m\u001b[0;34m)\u001b[0m\u001b[0;34m\u001b[0m\u001b[0m\n",
      "\u001b[0;32m/Users/conarymeyer/anaconda/lib/python3.6/site-packages/pandas/core/indexes/multi.py\u001b[0m in \u001b[0;36mget_loc_level\u001b[0;34m(self, key, level, drop_level)\u001b[0m\n\u001b[1;32m   2147\u001b[0m                 \u001b[0;32mreturn\u001b[0m \u001b[0mindexer\u001b[0m\u001b[0;34m,\u001b[0m \u001b[0mmaybe_droplevels\u001b[0m\u001b[0;34m(\u001b[0m\u001b[0mindexer\u001b[0m\u001b[0;34m,\u001b[0m \u001b[0milevels\u001b[0m\u001b[0;34m,\u001b[0m \u001b[0mdrop_level\u001b[0m\u001b[0;34m)\u001b[0m\u001b[0;34m\u001b[0m\u001b[0m\n\u001b[1;32m   2148\u001b[0m         \u001b[0;32melse\u001b[0m\u001b[0;34m:\u001b[0m\u001b[0;34m\u001b[0m\u001b[0m\n\u001b[0;32m-> 2149\u001b[0;31m             \u001b[0mindexer\u001b[0m \u001b[0;34m=\u001b[0m \u001b[0mself\u001b[0m\u001b[0;34m.\u001b[0m\u001b[0m_get_level_indexer\u001b[0m\u001b[0;34m(\u001b[0m\u001b[0mkey\u001b[0m\u001b[0;34m,\u001b[0m \u001b[0mlevel\u001b[0m\u001b[0;34m=\u001b[0m\u001b[0mlevel\u001b[0m\u001b[0;34m)\u001b[0m\u001b[0;34m\u001b[0m\u001b[0m\n\u001b[0m\u001b[1;32m   2150\u001b[0m             \u001b[0;32mreturn\u001b[0m \u001b[0mindexer\u001b[0m\u001b[0;34m,\u001b[0m \u001b[0mmaybe_droplevels\u001b[0m\u001b[0;34m(\u001b[0m\u001b[0mindexer\u001b[0m\u001b[0;34m,\u001b[0m \u001b[0;34m[\u001b[0m\u001b[0mlevel\u001b[0m\u001b[0;34m]\u001b[0m\u001b[0;34m,\u001b[0m \u001b[0mdrop_level\u001b[0m\u001b[0;34m)\u001b[0m\u001b[0;34m\u001b[0m\u001b[0m\n\u001b[1;32m   2151\u001b[0m \u001b[0;34m\u001b[0m\u001b[0m\n",
      "\u001b[0;32m/Users/conarymeyer/anaconda/lib/python3.6/site-packages/pandas/core/indexes/multi.py\u001b[0m in \u001b[0;36m_get_level_indexer\u001b[0;34m(self, key, level, indexer)\u001b[0m\n\u001b[1;32m   2227\u001b[0m         \u001b[0;32melse\u001b[0m\u001b[0;34m:\u001b[0m\u001b[0;34m\u001b[0m\u001b[0m\n\u001b[1;32m   2228\u001b[0m \u001b[0;34m\u001b[0m\u001b[0m\n\u001b[0;32m-> 2229\u001b[0;31m             \u001b[0mloc\u001b[0m \u001b[0;34m=\u001b[0m \u001b[0mlevel_index\u001b[0m\u001b[0;34m.\u001b[0m\u001b[0mget_loc\u001b[0m\u001b[0;34m(\u001b[0m\u001b[0mkey\u001b[0m\u001b[0;34m)\u001b[0m\u001b[0;34m\u001b[0m\u001b[0m\n\u001b[0m\u001b[1;32m   2230\u001b[0m             \u001b[0;32mif\u001b[0m \u001b[0misinstance\u001b[0m\u001b[0;34m(\u001b[0m\u001b[0mloc\u001b[0m\u001b[0;34m,\u001b[0m \u001b[0mslice\u001b[0m\u001b[0;34m)\u001b[0m\u001b[0;34m:\u001b[0m\u001b[0;34m\u001b[0m\u001b[0m\n\u001b[1;32m   2231\u001b[0m                 \u001b[0;32mreturn\u001b[0m \u001b[0mloc\u001b[0m\u001b[0;34m\u001b[0m\u001b[0m\n",
      "\u001b[0;32m/Users/conarymeyer/anaconda/lib/python3.6/site-packages/pandas/core/indexes/base.py\u001b[0m in \u001b[0;36mget_loc\u001b[0;34m(self, key, method, tolerance)\u001b[0m\n\u001b[1;32m   2393\u001b[0m                 \u001b[0;32mreturn\u001b[0m \u001b[0mself\u001b[0m\u001b[0;34m.\u001b[0m\u001b[0m_engine\u001b[0m\u001b[0;34m.\u001b[0m\u001b[0mget_loc\u001b[0m\u001b[0;34m(\u001b[0m\u001b[0mkey\u001b[0m\u001b[0;34m)\u001b[0m\u001b[0;34m\u001b[0m\u001b[0m\n\u001b[1;32m   2394\u001b[0m             \u001b[0;32mexcept\u001b[0m \u001b[0mKeyError\u001b[0m\u001b[0;34m:\u001b[0m\u001b[0;34m\u001b[0m\u001b[0m\n\u001b[0;32m-> 2395\u001b[0;31m                 \u001b[0;32mreturn\u001b[0m \u001b[0mself\u001b[0m\u001b[0;34m.\u001b[0m\u001b[0m_engine\u001b[0m\u001b[0;34m.\u001b[0m\u001b[0mget_loc\u001b[0m\u001b[0;34m(\u001b[0m\u001b[0mself\u001b[0m\u001b[0;34m.\u001b[0m\u001b[0m_maybe_cast_indexer\u001b[0m\u001b[0;34m(\u001b[0m\u001b[0mkey\u001b[0m\u001b[0;34m)\u001b[0m\u001b[0;34m)\u001b[0m\u001b[0;34m\u001b[0m\u001b[0m\n\u001b[0m\u001b[1;32m   2396\u001b[0m \u001b[0;34m\u001b[0m\u001b[0m\n\u001b[1;32m   2397\u001b[0m         \u001b[0mindexer\u001b[0m \u001b[0;34m=\u001b[0m \u001b[0mself\u001b[0m\u001b[0;34m.\u001b[0m\u001b[0mget_indexer\u001b[0m\u001b[0;34m(\u001b[0m\u001b[0;34m[\u001b[0m\u001b[0mkey\u001b[0m\u001b[0;34m]\u001b[0m\u001b[0;34m,\u001b[0m \u001b[0mmethod\u001b[0m\u001b[0;34m=\u001b[0m\u001b[0mmethod\u001b[0m\u001b[0;34m,\u001b[0m \u001b[0mtolerance\u001b[0m\u001b[0;34m=\u001b[0m\u001b[0mtolerance\u001b[0m\u001b[0;34m)\u001b[0m\u001b[0;34m\u001b[0m\u001b[0m\n",
      "\u001b[0;32mpandas/_libs/index.pyx\u001b[0m in \u001b[0;36mpandas._libs.index.IndexEngine.get_loc (pandas/_libs/index.c:5239)\u001b[0;34m()\u001b[0m\n",
      "\u001b[0;32mpandas/_libs/index.pyx\u001b[0m in \u001b[0;36mpandas._libs.index.IndexEngine.get_loc (pandas/_libs/index.c:5085)\u001b[0;34m()\u001b[0m\n",
      "\u001b[0;32mpandas/_libs/hashtable_class_helper.pxi\u001b[0m in \u001b[0;36mpandas._libs.hashtable.PyObjectHashTable.get_item (pandas/_libs/hashtable.c:20405)\u001b[0;34m()\u001b[0m\n",
      "\u001b[0;32mpandas/_libs/hashtable_class_helper.pxi\u001b[0m in \u001b[0;36mpandas._libs.hashtable.PyObjectHashTable.get_item (pandas/_libs/hashtable.c:20359)\u001b[0;34m()\u001b[0m\n",
      "\u001b[0;31mKeyError\u001b[0m: <module 'codon' from '/Users/conarymeyer/Desktop/GitHub/bionet-synthesis/pipeline/codon.py'>"
     ]
    }
   ],
   "source": [
    "start_seq = \"ATGAACTTCTCTATTAATCGTATGGTTTTGTTAGATAATCTGTCGAAAGCTGCAAAGGTTATTGATCCAAAGAACGTGAACCCCTCGCTTGCTGGAATTTATTTGAACGTGTTATCAGATCAAGTCAACATTATCGCGACCTCAGGCATTTTATCCTTTAAGTCTATTCTTAATAATCAGAATAGCGACTTGGAGGTAAAGCAAGAAGGGAAAGTCTTACTGAAACCAAAGTTCGTGCTTGAGATGTTGCGCCGTCTGGATGACGAATTCGTTGTGTTCAGCATGGTAGAGGACAACGAGTTAATCATCAAAACAGACAATTCAGATTTTAGCATTGGGGTATTAAATAGTGAGGACTACCCACTTATTGGGTTCCGCGAAAAAGGCATTGAGTTTAATCTGAATCCTAAGGAAGTTAAGAAAACTATCTATCAGGTTTTTGTATCTATGAACGAGAATAACAAAAAATTAATTTTGACAGGATTAAACCTTAAACTTAACAATAACAAAGCAATTTTTAGCACCACCGATTCCTTTCGCATCTCGCAGAAAATTCTGGAAATTCAGAGCGATAATAATGAGGATATTGACATCACAATCCCGTTCAAAACTGCCTTAGAGTTGCCGAAACTGTTAGACAACGCGGAAAATCTGAAGATTATTATCGTCGAAGGCTACATTACGTTCATTATTGATAATGTCATTTTCCAATCTAATCTTATCGACGGTCGTTTCCCAAATGTCCAGATTGCGTTTCCGACTAAATTTGAAACGATCATCACCGTGAAACAAAAGTCCATCCTGAAGGTGTTATCGCGTTTCGACTTGGTCGCAGATGACGGCTTACCGGCCATTGTAAACATTAAGGTGAATGAGGATAAGATCGAGTTCAAATCATTCATCTCTGAGGTGGGGAAGTACGAAGAGGATTTCGACGACTTTGTCATCGAGGGGAATAAGTCTCTGAGTATCTCATTCAACACTCGCTTTCTTATTGATGCCATCAAAACTCTTGACGAAGATCGTATCGAATTGAAATTGATTAACTCCACTAAGCCAATCGTGATCAACAATGTCTACGACGAACACTTGAAACAGGTTATTTTGCCTACCTTTTTATCAAACTGA\"\n",
    "taxid = \"S.cerevisiae\"\n",
    "# start_seq = Seq(start_seq)\n",
    "codons = [start_seq[n:n+3] for n in range(0, len(start_seq), 3)]\n",
    "print(codons)\n",
    "\n",
    "codon_table = codon.load_codon_table(taxonomy_id=taxid)\n",
    "codon_10plus = codon.codon_table_10plus(codon_table)\n",
    "ec_codon_usage_10plus = codon_10plus\n",
    "ec_codon_usage = codon_table\n",
    "\n",
    "# opt_seq = codon.recode_sequence(codon_table,start_seq,codons[1])\n",
    "seq = start_seq\n",
    "rep = 'AAC'\n",
    "table = codon_10plus\n",
    "\n",
    "pos = seq.find(rep)\n",
    "pos -= pos % 3\n",
    "print(pos)\n",
    "for i in range(pos, pos + (len(rep) // 3 + 1) * 3, 3):\n",
    "    start_codon = start_seq[i:i+3]\n",
    "    choices = codon.codon_table_10plus(table).ix[table.ix[codon]]\n",
    "    choices = choices[choices.index != codon]\n",
    "\n"
   ]
  },
  {
   "cell_type": "code",
   "execution_count": null,
   "metadata": {
    "collapsed": true
   },
   "outputs": [],
   "source": []
  }
 ],
 "metadata": {
  "kernelspec": {
   "display_name": "Python 3",
   "language": "python",
   "name": "python3"
  },
  "language_info": {
   "codemirror_mode": {
    "name": "ipython",
    "version": 3
   },
   "file_extension": ".py",
   "mimetype": "text/x-python",
   "name": "python",
   "nbconvert_exporter": "python",
   "pygments_lexer": "ipython3",
   "version": "3.6.1"
  }
 },
 "nbformat": 4,
 "nbformat_minor": 2
}
