{
 "cells": [
  {
   "cell_type": "code",
   "execution_count": 11,
   "metadata": {},
   "outputs": [
    {
     "name": "stdout",
     "output_type": "stream",
     "text": [
      "Reused >0 times = 8847\n",
      "Reused >1 times = 4261\n",
      "Reused >2 times = 2695\n",
      "Reused >5 times = 1232\n",
      "Reused >10 times = 598\n",
      "Reused >100 times = 56\n",
      "Reused >1000 times = 7\n"
     ]
    }
   ],
   "source": [
    "import pandas as pd\n",
    "\n",
    "\n",
    "path = '/Users/conarymeyer/Downloads/reuse_year_wise.csv'\n",
    "\n",
    "data = pd.read_csv(path)\n",
    "targets = [0,1,2,5,10,100,1000]\n",
    "for num in targets:\n",
    "    total = data[data['TotalReuse'] > num]\n",
    "    print('Reused >{} times = {}'.format(num,len(total)))"
   ]
  },
  {
   "cell_type": "code",
   "execution_count": 14,
   "metadata": {},
   "outputs": [],
   "source": [
    "import urllib.request\n",
    "URL = 'http://parts.igem.org/xml/part.BBa_B0034'\n",
    "response = urllib.request.urlopen(URL)\n",
    "html = response.read()"
   ]
  },
  {
   "cell_type": "code",
   "execution_count": null,
   "metadata": {},
   "outputs": [],
   "source": []
  }
 ],
 "metadata": {
  "kernelspec": {
   "display_name": "Python 3",
   "language": "python",
   "name": "python3"
  },
  "language_info": {
   "codemirror_mode": {
    "name": "ipython",
    "version": 3
   },
   "file_extension": ".py",
   "mimetype": "text/x-python",
   "name": "python",
   "nbconvert_exporter": "python",
   "pygments_lexer": "ipython3",
   "version": "3.6.4"
  }
 },
 "nbformat": 4,
 "nbformat_minor": 2
}
