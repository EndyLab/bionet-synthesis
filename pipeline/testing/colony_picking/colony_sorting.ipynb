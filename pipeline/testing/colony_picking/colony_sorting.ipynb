{
 "cells": [
  {
   "cell_type": "code",
   "execution_count": 44,
   "metadata": {},
   "outputs": [
    {
     "name": "stdout",
     "output_type": "stream",
     "text": [
      "<zip object at 0x111c9ee48>\n",
      "[(4, 400), (60, 200), (7, 1000), (10, 100), (1, 400), (8, 8), (50, 4), (3, 1), (7, 1)]\n",
      "(4, 400) 0.0 0.5 0.5\n",
      "(60, 200) 0.9333333333333333 0.0 0.9333333333333333\n",
      "(7, 1000) 0.42857142857142855 0.8 1.2285714285714286\n",
      "(10, 100) 0.6 1.0 1.6\n",
      "(1, 400) 3.0 0.5 3.5\n",
      "(8, 8) 0.5 24.0 24.5\n",
      "(50, 4) 0.92 49.0 49.92\n",
      "(3, 1) 0.3333333333333333 199.0 199.33333333333334\n",
      "(7, 1) 0.42857142857142855 199.0 199.42857142857142\n"
     ]
    }
   ],
   "source": [
    "test = [4,1,7,8,3,7,10,50,60]\n",
    "extra = [400,400,1000,8,1,1,100,4,200]\n",
    "\n",
    "tup = zip(test,extra)\n",
    "print(tup)\n",
    "\n",
    "tar1 = 4\n",
    "tar2 = 200\n",
    "\n",
    "# for r in tup:\n",
    "#     print(r,((abs(tar1 - r[0]))/tar1),((abs(tar2 - r[1]))/tar2))\n",
    "\n",
    "tup = sorted(tup,key=lambda r: (((abs(tar1 - r[0]))/r[0])+((abs(tar2 - r[1]))/r[1])))\n",
    "print(tup)\n",
    "\n",
    "\n",
    "for r in tup:\n",
    "    print(r,((abs(tar1 - r[0]))/r[0]),((abs(tar2 - r[1]))/r[1]),((abs(tar1 - r[0]))/r[0])+((abs(tar2 - r[1]))/r[1]))\n",
    "             \n",
    "# target = 7\n",
    "# test = sorted(test,key=lambda r: (abs(target-r),r))\n",
    "# print(test)\n",
    "\n",
    "# #  key = lambda x: (x[1], x[2])\n",
    "\n",
    "# mod = list(map(lambda x: x**2,test))\n",
    "# print(mod)\n",
    "\n",
    "# filtered = list(filter(lambda x: (x > 100) & (x < 3000),mod))\n",
    "# print(filtered)\n"
   ]
  },
  {
   "cell_type": "code",
   "execution_count": null,
   "metadata": {},
   "outputs": [],
   "source": []
  }
 ],
 "metadata": {
  "kernelspec": {
   "display_name": "Python 3",
   "language": "python",
   "name": "python3"
  },
  "language_info": {
   "codemirror_mode": {
    "name": "ipython",
    "version": 3
   },
   "file_extension": ".py",
   "mimetype": "text/x-python",
   "name": "python",
   "nbconvert_exporter": "python",
   "pygments_lexer": "ipython3",
   "version": "3.6.4"
  }
 },
 "nbformat": 4,
 "nbformat_minor": 2
}
