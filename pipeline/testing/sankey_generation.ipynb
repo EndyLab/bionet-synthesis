{
 "cells": [
  {
   "cell_type": "code",
   "execution_count": 12,
   "metadata": {},
   "outputs": [
    {
     "data": {
      "application/vnd.jupyter.widget-view+json": {
       "model_id": "f0252cdbf026405e81790cd4422a321a",
       "version_major": 2,
       "version_minor": 0
      },
      "text/html": [
       "<p>Failed to display Jupyter Widget of type <code>SankeyWidget</code>.</p>\n",
       "<p>\n",
       "  If you're reading this message in the Jupyter Notebook or JupyterLab Notebook, it may mean\n",
       "  that the widgets JavaScript is still loading. If this message persists, it\n",
       "  likely means that the widgets JavaScript library is either not installed or\n",
       "  not enabled. See the <a href=\"https://ipywidgets.readthedocs.io/en/stable/user_install.html\">Jupyter\n",
       "  Widgets Documentation</a> for setup instructions.\n",
       "</p>\n",
       "<p>\n",
       "  If you're reading this message in another frontend (for example, a static\n",
       "  rendering on GitHub or <a href=\"https://nbviewer.jupyter.org/\">NBViewer</a>),\n",
       "  it may mean that your frontend doesn't currently support widgets.\n",
       "</p>\n"
      ],
      "text/plain": [
       "SankeyWidget(layout=Layout(height='600', width='1200'), links=[{'source': '2017.42', 'target': 'Total Ordered', 'value': 438, 'color': '#2b5aa5'}, {'source': '2017.44', 'target': 'Total Ordered', 'value': 27, 'color': '#2b5aa5'}, {'source': '2017.46', 'target': 'Total Ordered', 'value': 68, 'color': '#2b5aa5'}, {'source': '2017.48', 'target': 'Total Ordered', 'value': 101, 'color': '#2b5aa5'}, {'source': '2017.50', 'target': 'Total Ordered', 'value': 5, 'color': '#2b5aa5'}, {'source': 'Total Ordered', 'target': 'Abandoned', 'value': 35, 'color': '#545656'}, {'source': 'Total Ordered', 'target': 'Received', 'value': 497, 'color': '#418fba'}, {'source': 'Total Ordered', 'target': 'In Production', 'value': 107, 'color': '#edbd2d'}, {'source': 'Received', 'target': 'Build Attempted', 'value': 267, 'color': '#6e9db7'}, {'source': 'Build Attempted', 'target': 'Verified Success', 'value': 149, 'color': '#43bc68'}, {'source': 'Build Attempted', 'target': 'Failures', 'value': 118, 'color': '#a8252b'}, {'source': 'Received', 'target': 'Not Yet Attempted', 'value': 230, 'color': '#418fba'}], margins={'top': 30, 'bottom': 0, 'left': 100, 'right': 120}, nodes=[{'id': '2017.46'}, {'id': '2017.42'}, {'id': 'Failures'}, {'id': 'Abandoned'}, {'id': '2017.48'}, {'id': 'Received'}, {'id': 'Total Ordered'}, {'id': 'In Production'}, {'id': 'Build Attempted'}, {'id': 'Verified Success'}, {'id': '2017.44'}, {'id': 'Not Yet Attempted'}, {'id': '2017.50'}], rank_sets=[{'type': 'same', 'nodes': ['Abandoned', 'In Production', 'Verified Success', 'Failures', 'Not Yet Attempted']}])"
      ]
     },
     "metadata": {},
     "output_type": "display_data"
    }
   ],
   "source": [
    "from ipysankeywidget import SankeyWidget\n",
    "from ipywidgets import Layout\n",
    "from IPython.display import (\n",
    "    Image,\n",
    "    SVG\n",
    ")\n",
    "\n",
    "layout = Layout(width=\"1200\", height=\"600\")\n",
    "def sankey(margin_top=10, **value):\n",
    "    \"\"\"Show SankeyWidget with default values for size and margins\"\"\"\n",
    "    return SankeyWidget(layout=layout,\n",
    "                        margins=dict(top=margin_top, bottom=0, left=100, right=120),\n",
    "                        **value)\n",
    "\n",
    "\n",
    "links = [\n",
    "    {'source': '2017.42', 'target': 'Total Ordered', 'value': 438, 'color':'#2b5aa5'},\n",
    "    {'source': '2017.44', 'target': 'Total Ordered', 'value': 27, 'color': '#2b5aa5'},\n",
    "    {'source': '2017.46', 'target': 'Total Ordered', 'value': 68, 'color': '#2b5aa5'},\n",
    "    {'source': '2017.48', 'target': 'Total Ordered', 'value': 101, 'color': '#2b5aa5'},\n",
    "    {'source': '2017.50', 'target': 'Total Ordered', 'value': 5, 'color': '#2b5aa5'},\n",
    "    {'source': 'Total Ordered', 'target': 'Abandoned', 'value': 35, 'color': '#545656'},\n",
    "    {'source': 'Total Ordered', 'target': 'Received', 'value': 497, 'color': '#418fba'},\n",
    "    {'source': 'Total Ordered', 'target': 'In Production', 'value': 107, 'color': '#edbd2d'},\n",
    "    {'source': 'Received', 'target': 'Build Attempted', 'value': 267, 'color': '#6e9db7'},\n",
    "    {'source': 'Build Attempted', 'target': 'Verified Success', 'value': 149, 'color': '#43bc68'},\n",
    "    {'source': 'Build Attempted', 'target': 'Failures', 'value': 118, 'color': '#a8252b'},\n",
    "    {'source': 'Received', 'target': 'Not Yet Attempted', 'value': 230, 'color': '#418fba'},\n",
    "\n",
    "]\n",
    "\n",
    "#links[0][\"value\"] = 16\n",
    "groups = [\n",
    "    {'id': 'G', 'title': 'Group', 'nodes': ['C', 'D']}\n",
    "]\n",
    "\n",
    "#order = [\n",
    "#    [ [   ], [   ], ['A'],[   ],[   ]   ],\n",
    "#    [ [   ], [   ], ['B'],[   ],[   ]   ],\n",
    "#    [ [   ], ['D'], [   ],[\"C\"],[   ]   ],    \n",
    "#    [ ['E'], ['H'], ['G'],[   ],['F']   ],\n",
    "#]\n",
    "\n",
    "#order = [\n",
    "#    [ ['X'], ['Y'],['Z'] ],\n",
    "#    [ [], ['A'] ],\n",
    "#    [ [], ['B'] ],\n",
    "#    [ ['E'], ['D'], [\"C\"] ],   \n",
    "#    [ ['E'], ['H'], ['G'], ['F'] ],\n",
    "#]\n",
    "\n",
    "rank_sets = [\n",
    "    { 'type': 'same', 'nodes': ['Abandoned','In Production','Verified Success','Failures','Not Yet Attempted'] }\n",
    "]\n",
    "\n",
    "diagram = sankey(links=links, rank_sets=rank_sets, margin_top=30)\n",
    "\n",
    "diagram.auto_save_png('test.png')"
   ]
  },
  {
   "cell_type": "code",
   "execution_count": null,
   "metadata": {
    "collapsed": true
   },
   "outputs": [],
   "source": []
  }
 ],
 "metadata": {
  "kernelspec": {
   "display_name": "Python 3",
   "language": "python",
   "name": "python3"
  },
  "language_info": {
   "codemirror_mode": {
    "name": "ipython",
    "version": 3
   },
   "file_extension": ".py",
   "mimetype": "text/x-python",
   "name": "python",
   "nbconvert_exporter": "python",
   "pygments_lexer": "ipython3",
   "version": "3.6.1"
  }
 },
 "nbformat": 4,
 "nbformat_minor": 2
}
