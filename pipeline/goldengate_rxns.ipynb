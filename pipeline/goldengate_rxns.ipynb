{
 "cells": [
  {
   "cell_type": "code",
   "execution_count": 10,
   "metadata": {},
   "outputs": [
    {
     "name": "stdout",
     "output_type": "stream",
     "text": [
      "            Component  Amount\n",
      "0                 H2O   480.0\n",
      "1            Cutsmart    96.0\n",
      "2                 ATP    96.0\n",
      "3              Vector    24.0\n",
      "4           T4 Ligase    48.0\n",
      "5  Restriction Enzyme    24.0\n",
      "6               Total   768.0\n"
     ]
    }
   ],
   "source": [
    "import pandas as pd\n",
    "def make_gg_rxns(num_rxns,rxn_vol):\n",
    "    '''\n",
    "    Calculates the amount of each reagent to add to reach the desired master mix\n",
    "    '''\n",
    "    cutsmart = 1 * num_rxns\n",
    "    atp = 1 * num_rxns\n",
    "    vector = 0.25 * num_rxns\n",
    "    ligase = 0.5 * num_rxns\n",
    "    enzyme = 0.25 * num_rxns\n",
    "    water = (rxn_vol - ((cutsmart + atp + vector + ligase + enzyme)/num_rxns)) * num_rxns\n",
    "    master_mix = pd.DataFrame(\n",
    "        {'Component':['H2O','Cutsmart','ATP','Vector','T4 Ligase','Restriction Enzyme','Total'],\n",
    "        'Amount':[water,cutsmart,atp,vector,ligase,enzyme,rxn_vol*num_rxns]},\n",
    "        columns=[\"Component\",\"Amount\"]\n",
    "    )\n",
    "    return master_mix\n",
    "    \n",
    "print(make_gg_rxns(96,8))"
   ]
  },
  {
   "cell_type": "code",
   "execution_count": null,
   "metadata": {
    "collapsed": true
   },
   "outputs": [],
   "source": []
  }
 ],
 "metadata": {
  "kernelspec": {
   "display_name": "Python 3",
   "language": "python",
   "name": "python3"
  },
  "language_info": {
   "codemirror_mode": {
    "name": "ipython",
    "version": 3
   },
   "file_extension": ".py",
   "mimetype": "text/x-python",
   "name": "python",
   "nbconvert_exporter": "python",
   "pygments_lexer": "ipython3",
   "version": "3.6.1"
  }
 },
 "nbformat": 4,
 "nbformat_minor": 2
}
