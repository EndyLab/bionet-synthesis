{
 "cells": [
  {
   "cell_type": "code",
   "execution_count": null,
   "metadata": {},
   "outputs": [],
   "source": [
    "import sqlalchemy\n",
    "sqlalchemy.__version__"
   ]
  },
  {
   "cell_type": "code",
   "execution_count": null,
   "metadata": {
    "collapsed": true
   },
   "outputs": [],
   "source": [
    "from sqlalchemy import create_engine\n",
    "engine = create_engine('sqlite:///:memory:', echo=True)\n",
    "\n",
    "from sqlalchemy.ext.declarative import declarative_base\n",
    "Base = declarative_base()\n",
    "\n",
    "from sqlalchemy import Column, Integer, String\n",
    "class User(Base):\n",
    "    __tablename__ = 'users'\n",
    "\n",
    "    id = Column(Integer, primary_key=True)\n",
    "    name = Column(String)\n",
    "    fullname = Column(String)\n",
    "    password = Column(String)\n",
    "\n",
    "    def __repr__(self):\n",
    "        return \"<User(name='%s', fullname='%s', password='%s')>\" % (\n",
    "                            self.name, self.fullname, self.password)\n",
    "    \n"
   ]
  },
  {
   "cell_type": "code",
   "execution_count": null,
   "metadata": {},
   "outputs": [],
   "source": [
    "Base.metadata.create_all(engine)\n"
   ]
  },
  {
   "cell_type": "code",
   "execution_count": null,
   "metadata": {},
   "outputs": [],
   "source": [
    "ed_user = User(name='ed', fullname='Ed Jones', password='edspassword')\n",
    "ed_user.name"
   ]
  },
  {
   "cell_type": "code",
   "execution_count": null,
   "metadata": {
    "collapsed": true
   },
   "outputs": [],
   "source": [
    "from sqlalchemy.orm import sessionmaker\n",
    "Session = sessionmaker(bind=engine)\n",
    "\n",
    "# Session = sessionmaker()\n",
    "\n",
    "Session.configure(bind=engine)\n",
    "\n",
    "session = Session()\n"
   ]
  },
  {
   "cell_type": "code",
   "execution_count": null,
   "metadata": {},
   "outputs": [],
   "source": [
    "ed_user = User(name='ed', fullname='Ed Jones', password='edspassword')\n",
    "\n",
    "session.add(ed_user)\n",
    "\n",
    "# ed_user.password = 'f8s7ccs'\n",
    "\n",
    "session.add_all([\n",
    "    User(name='wendy', fullname='Wendy Williams', password='foobar'),\n",
    "    User(name='mary', fullname='Mary Contrary', password='xxg527'),\n",
    "    User(name='fred', fullname='Fred Flinstone', password='blah')])\n",
    "\n",
    "session.commit()\n"
   ]
  },
  {
   "cell_type": "code",
   "execution_count": null,
   "metadata": {},
   "outputs": [],
   "source": [
    "ed_user.id"
   ]
  },
  {
   "cell_type": "code",
   "execution_count": null,
   "metadata": {},
   "outputs": [],
   "source": [
    "ed_user.name = 'Edwardo'\n",
    "fake_user = User(name='fakeuser', fullname='Invalid', password='12345')\n",
    "session.add(fake_user)\n",
    "\n",
    "session.query(User).filter(User.name.in_(['Edwardo', 'fakeuser'])).all()"
   ]
  },
  {
   "cell_type": "code",
   "execution_count": null,
   "metadata": {},
   "outputs": [],
   "source": [
    "session.rollback()\n",
    "\n",
    "ed_user.name"
   ]
  },
  {
   "cell_type": "code",
   "execution_count": null,
   "metadata": {},
   "outputs": [],
   "source": [
    "for instance in session.query(User).order_by(User.id):\n",
    "    print(instance.id, instance.name)"
   ]
  },
  {
   "cell_type": "code",
   "execution_count": null,
   "metadata": {},
   "outputs": [],
   "source": [
    "for name, fullname in session.query(User.name, User.fullname):\n",
    "    print(name,fullname)\n",
    "    "
   ]
  },
  {
   "cell_type": "code",
   "execution_count": null,
   "metadata": {},
   "outputs": [],
   "source": [
    "for name, in session.query(User.name).\\\n",
    "            filter_by(fullname='Ed Jones'):\n",
    "    print(name)\n",
    "    "
   ]
  },
  {
   "cell_type": "code",
   "execution_count": null,
   "metadata": {},
   "outputs": [],
   "source": [
    "for user in session.query(User).\\\n",
    "         filter(User.name.ilike('%ed%')).\\\n",
    "         filter(User.fullname=='Ed Jones'):\n",
    "    print(user)"
   ]
  },
  {
   "cell_type": "code",
   "execution_count": null,
   "metadata": {},
   "outputs": [],
   "source": [
    "for user in session.query(User).\\\n",
    "         filter(User.name.in_(['ed', 'wendy', 'jack'])):\n",
    "    print(user)\n",
    "\n",
    "\n"
   ]
  },
  {
   "cell_type": "code",
   "execution_count": null,
   "metadata": {},
   "outputs": [],
   "source": [
    "from sqlalchemy import ForeignKey\n",
    "from sqlalchemy.orm import relationship\n",
    "\n",
    "class Address(Base):\n",
    "    __tablename__ = 'addresses'\n",
    "    id = Column(Integer, primary_key=True)\n",
    "    email_address = Column(String, nullable=False)\n",
    "    user_id = Column(Integer, ForeignKey('users.id'))\n",
    "\n",
    "    user = relationship(\"User\", back_populates=\"addresses\")\n",
    "\n",
    "    def __repr__(self):\n",
    "        return \"<Address(email_address='%s')>\" % self.email_address\n",
    "\n",
    "User.addresses = relationship(\n",
    "    \"Address\", order_by=Address.id, back_populates=\"user\")\n",
    "\n",
    "Base.metadata.create_all(engine)"
   ]
  },
  {
   "cell_type": "code",
   "execution_count": null,
   "metadata": {},
   "outputs": [],
   "source": [
    "jack = User(name='jack', fullname='Jack Bean', password='gjffdd')\n",
    "jack.addresses"
   ]
  },
  {
   "cell_type": "code",
   "execution_count": null,
   "metadata": {
    "collapsed": true
   },
   "outputs": [],
   "source": [
    "jack.addresses = [\n",
    "                Address(email_address='jack@google.com'),\n",
    "                Address(email_address='j25@yahoo.com')]"
   ]
  },
  {
   "cell_type": "code",
   "execution_count": null,
   "metadata": {},
   "outputs": [],
   "source": [
    "jack.addresses[1].user"
   ]
  },
  {
   "cell_type": "code",
   "execution_count": null,
   "metadata": {},
   "outputs": [],
   "source": [
    "session.add(jack)\n",
    "session.commit()"
   ]
  },
  {
   "cell_type": "code",
   "execution_count": null,
   "metadata": {},
   "outputs": [],
   "source": [
    "jack = session.query(User).filter_by(name='jack').one()\n",
    "jack"
   ]
  },
  {
   "cell_type": "code",
   "execution_count": null,
   "metadata": {},
   "outputs": [],
   "source": [
    "from sqlalchemy import Table, Text\n",
    "# association table\n",
    "post_keywords = Table('post_keywords', Base.metadata,\n",
    "    Column('post_id', ForeignKey('posts.id'), primary_key=True),\n",
    "    Column('keyword_id', ForeignKey('keywords.id'), primary_key=True)\n",
    ")\n",
    "\n",
    "class BlogPost(Base):\n",
    "    __tablename__ = 'posts'\n",
    "\n",
    "    id = Column(Integer, primary_key=True)\n",
    "    user_id = Column(Integer, ForeignKey('users.id'))\n",
    "    headline = Column(String(255), nullable=False)\n",
    "    body = Column(Text)\n",
    "\n",
    "    # many to many BlogPost<->Keyword\n",
    "    keywords = relationship('Keyword',\n",
    "                            secondary=post_keywords,\n",
    "                            back_populates='posts')\n",
    "\n",
    "    def __init__(self, headline, body, author):\n",
    "        self.author = author\n",
    "        self.headline = headline\n",
    "        self.body = body\n",
    "\n",
    "    def __repr__(self):\n",
    "        return \"BlogPost(%r, %r, %r)\" % (self.headline, self.body, self.author)\n",
    "\n",
    "\n",
    "class Keyword(Base):\n",
    "    __tablename__ = 'keywords'\n",
    "\n",
    "    id = Column(Integer, primary_key=True)\n",
    "    keyword = Column(String(50), nullable=False, unique=True)\n",
    "    posts = relationship('BlogPost',\n",
    "                         secondary=post_keywords,\n",
    "                         back_populates='keywords')\n",
    "\n",
    "    def __init__(self, keyword):\n",
    "        self.keyword = keyword\n",
    "        \n",
    "        \n",
    "        \n",
    "BlogPost.author = relationship(User, back_populates=\"posts\")\n",
    "User.posts = relationship(BlogPost, back_populates=\"author\", lazy=\"dynamic\")\n",
    "\n",
    "Base.metadata.create_all(engine)\n",
    "\n",
    "wendy = session.query(User).\\\n",
    "                filter_by(name='wendy').\\\n",
    "                one()\n",
    "post = BlogPost(\"Wendy's Blog Post\", \"This is a test\", wendy)\n",
    "session.add(post)\n"
   ]
  },
  {
   "cell_type": "code",
   "execution_count": null,
   "metadata": {},
   "outputs": [],
   "source": [
    "post.keywords.append(Keyword('wendy'))\n",
    "post.keywords.append(Keyword('firstpost'))"
   ]
  },
  {
   "cell_type": "code",
   "execution_count": null,
   "metadata": {},
   "outputs": [],
   "source": [
    "session.query(BlogPost).\\\n",
    "            filter(BlogPost.keywords.any(keyword='firstpost')).\\\n",
    "            all()"
   ]
  },
  {
   "cell_type": "code",
   "execution_count": 25,
   "metadata": {},
   "outputs": [
    {
     "name": "stdout",
     "output_type": "stream",
     "text": [
      "made a plate\n",
      "A1\n",
      "made well A1 with gene1\n",
      "B1\n",
      "made well B1 with gene2\n",
      "C1\n",
      "made well C1 with gene3\n"
     ]
    },
    {
     "data": {
      "text/plain": [
       "'A1'"
      ]
     },
     "execution_count": 25,
     "metadata": {},
     "output_type": "execute_result"
    }
   ],
   "source": [
    "def well_addresses():\n",
    "    '''Generates a list of well address A1-H12'''\n",
    "    letter = [\"A\",\"B\",\"C\",\"D\",\"E\",\"F\",\"G\",\"H\"]\n",
    "    number = [\"1\",\"2\",\"3\",\"4\",\"5\",\"6\",\"7\",\"8\",\"9\",\"10\",\"11\",\"12\"]\n",
    "    target_well = []\n",
    "    temp_well = 0\n",
    "    for n in number:\n",
    "        for l in letter:\n",
    "            temp_well = l + n\n",
    "            target_well.append(temp_well)\n",
    "    return target_well\n",
    "\n",
    "class Well():\n",
    "    def __init__(self,well_add,gene):\n",
    "        print(\"made well {} with {}\".format(well_add,gene))\n",
    "        self.address = well_add\n",
    "        self.gene = gene\n",
    "\n",
    "class Plate():\n",
    "    def __init__(self):\n",
    "        print(\"made a plate\")\n",
    "        wells = well_addresses()\n",
    "        self.counter = 0\n",
    "        self.well_addresses = wells\n",
    "        self.next_well = self.well_addresses[self.counter]\n",
    "    \n",
    "    def make_well(self,gene):\n",
    "        print(self.well_addresses[self.counter])\n",
    "        self.well_addresses[self.counter] = Well(self.next_well,gene)\n",
    "        self.counter += 1\n",
    "        self.next_well = self.well_addresses[self.counter]\n",
    "        \n",
    "\n",
    "    \n",
    "\n",
    "genes = ['gene1','gene2','gene3']\n",
    "plate1 = Plate()\n",
    "for gene in genes:\n",
    "    plate1.make_well(gene)\n",
    "# plate1.A1\n",
    "plate1.well_addresses[0].gene\n",
    "plate1.well_addresses[0].address\n",
    "\n",
    "\n",
    "# plate1.make_well('gene2')"
   ]
  },
  {
   "cell_type": "code",
   "execution_count": 28,
   "metadata": {},
   "outputs": [
    {
     "name": "stdout",
     "output_type": "stream",
     "text": [
      "init person\n",
      "init person\n",
      "init employee\n",
      "Marge Simpson\n",
      "Homer Simpson, 1007\n",
      "Homer Simpson\n"
     ]
    }
   ],
   "source": [
    "class Person:\n",
    "    def __init__(self, first, last):\n",
    "        self.firstname = first\n",
    "        self.lastname = last\n",
    "        print(\"init person\")\n",
    "\n",
    "    def Name(self):\n",
    "        return self.firstname + \" \" + self.lastname\n",
    "\n",
    "class Employee(Person):\n",
    "\n",
    "    def __init__(self, first, last, staffnum):\n",
    "        Person.__init__(self,first, last)\n",
    "        self.staffnumber = staffnum\n",
    "        print('init employee')\n",
    "\n",
    "    def GetEmployee(self):\n",
    "        return self.Name() + \", \" +  self.staffnumber\n",
    "\n",
    "x = Person(\"Marge\", \"Simpson\")\n",
    "y = Employee(\"Homer\", \"Simpson\", \"1007\")\n",
    "\n",
    "print(x.Name())\n",
    "print(y.GetEmployee())\n",
    "print(y.Name())"
   ]
  },
  {
   "cell_type": "code",
   "execution_count": null,
   "metadata": {
    "collapsed": true
   },
   "outputs": [],
   "source": []
  }
 ],
 "metadata": {
  "kernelspec": {
   "display_name": "Python 3",
   "language": "python",
   "name": "python3"
  },
  "language_info": {
   "codemirror_mode": {
    "name": "ipython",
    "version": 3
   },
   "file_extension": ".py",
   "mimetype": "text/x-python",
   "name": "python",
   "nbconvert_exporter": "python",
   "pygments_lexer": "ipython3",
   "version": "3.6.1"
  }
 },
 "nbformat": 4,
 "nbformat_minor": 2
}
