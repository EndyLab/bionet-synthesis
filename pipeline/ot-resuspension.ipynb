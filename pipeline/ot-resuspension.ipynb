{
 "cells": [
  {
   "cell_type": "code",
   "execution_count": 2,
   "metadata": {
    "collapsed": true
   },
   "outputs": [],
   "source": [
    "from opentrons import robot, containers, instruments\n",
    "import pandas as pd\n",
    "import argparse\n",
    "import sys"
   ]
  },
  {
   "cell_type": "code",
   "execution_count": 3,
   "metadata": {
    "collapsed": true
   },
   "outputs": [],
   "source": [
    "# Load our files\n",
    "plates = pd.read_csv('../synth2/Twist_10-26-2017_648.csv',usecols=['Plate','Well','customer_line_item_id','synthesized sequence length','Yield (ng)'])\n",
    "\n",
    "#layout = pd.read_csv('./testing/plate-loc-resuspend-sm.csv')\n",
    "#layout = layout.set_index('Position').to_dict()['Name'] # Turn into a location->name dict\n"
   ]
  },
  {
   "cell_type": "code",
   "execution_count": 4,
   "metadata": {},
   "outputs": [
    {
     "name": "stdout",
     "output_type": "stream",
     "text": [
      "Please arrange the plates in the following configuration:\n",
      "\n",
      "  B                   D E\n",
      "3                        \n",
      "2                        \n",
      "1    pSHPs1025B525648MU  \n",
      "\n",
      "Press enter to continue\n"
     ]
    }
   ],
   "source": [
    "# Configuration\n",
    "SOURCE_SLOTS = ['D1','D2','D3', 'E1','B2']\n",
    "\n",
    "plate_names = plates['Plate'].unique()\n",
    "\n",
    "if len(plate_names) > len(SOURCE_SLOTS):\n",
    "    print(\"Error: This build plan requires too many source plates.\")\n",
    "    sys.exit(1)\n",
    "\n",
    "layout = list(zip(SOURCE_SLOTS[:len(plate_names)], plate_names))\n",
    "\n",
    "slots = pd.Series(SOURCE_SLOTS)\n",
    "columns = sorted(slots.str[0].unique())\n",
    "rows = sorted(slots.str[1].unique(), reverse=True)\n",
    "\n",
    "layout_table = pd.DataFrame(index=rows, columns=columns)\n",
    "layout_table.fillna(\"\", inplace=True)\n",
    "\n",
    "for slot, plate in layout:\n",
    "    layout_table.loc[slot[1], slot[0]] = plate\n",
    "\n",
    "print(\"Please arrange the plates in the following configuration:\")\n",
    "print()\n",
    "print(layout_table)\n",
    "print()\n",
    "input(\"Press enter to continue\")\n",
    "\n",
    "layout = dict(layout)"
   ]
  },
  {
   "cell_type": "code",
   "execution_count": 7,
   "metadata": {},
   "outputs": [],
   "source": [
    "# Calculate Resuspension Volumes\n",
    "\n",
    "plates['customer_line_item_id'] = plates['customer_line_item_id'].str.strip()\n",
    "\n",
    "amount = plates['Yield (ng)']\n",
    "length = plates['synthesized sequence length']\n",
    "\n",
    "fmoles = 40\n",
    "\n",
    "volume = (((((amount / 1000)*(1000000))/(660*length))*1000) / fmoles) * 2\n",
    "\n",
    "plan = pd.DataFrame({'Plate': plates['Plate'],\n",
    "                     'Well': plates['Well'],\n",
    "                     'Volume': volume})\n",
    "plan = plan[['Plate','Well','Volume']]\n"
   ]
  },
  {
   "cell_type": "code",
   "execution_count": 47,
   "metadata": {
    "collapsed": true
   },
   "outputs": [],
   "source": [
    "# Configure the robot\n",
    "\n",
    "#  Layout:\n",
    "#    A     B       C      D      E\n",
    "#  3 trash master  source source p10\n",
    "#  2 p200  dest    source source p10\n",
    "#  1 p200  dest    source source p10\n",
    "\n",
    "robot.connect('Virtual Smoothie') #robot.get_serial_ports_list()[0])\n",
    "\n"
   ]
  },
  {
   "cell_type": "code",
   "execution_count": 9,
   "metadata": {
    "collapsed": true
   },
   "outputs": [],
   "source": [
    "dest_plates = [\n",
    "    containers.load('96-flat', 'B1'),\n",
    "    containers.load('96-flat', 'B2')\n",
    "]\n",
    "\n",
    "source_plates = {}\n",
    "for slot, plate in layout.items():\n",
    "    source_plates[plate] = containers.load('96-flat', slot)\n"
   ]
  },
  {
   "cell_type": "code",
   "execution_count": 21,
   "metadata": {},
   "outputs": [
    {
     "data": {
      "text/plain": [
       "<WellSeries: <Well A1><Well B1><Well C1><Well D1><Well E1><Well F1><Well G1><Well H1><Well A2><Well B2><Well C2><Well D2><Well E2><Well F2><Well G2><Well H2><Well A3><Well B3><Well C3><Well D3><Well E3><Well F3>>"
      ]
     },
     "execution_count": 21,
     "metadata": {},
     "output_type": "execute_result"
    }
   ],
   "source": [
    "# Distribute down the plates\n",
    "num_reactions = len(plan)\n",
    "num_rows = num_reactions // 8 + 1\n",
    "all_wells = dest_plates[0].wells() + dest_plates[1].wells()\n",
    "\n",
    "all_wells[:num_reactions]"
   ]
  },
  {
   "cell_type": "code",
   "execution_count": null,
   "metadata": {
    "collapsed": true
   },
   "outputs": [],
   "source": []
  }
 ],
 "metadata": {
  "kernelspec": {
   "display_name": "Python 3",
   "language": "python",
   "name": "python3"
  },
  "language_info": {
   "codemirror_mode": {
    "name": "ipython",
    "version": 3
   },
   "file_extension": ".py",
   "mimetype": "text/x-python",
   "name": "python",
   "nbconvert_exporter": "python",
   "pygments_lexer": "ipython3",
   "version": "3.6.1"
  }
 },
 "nbformat": 4,
 "nbformat_minor": 2
}
